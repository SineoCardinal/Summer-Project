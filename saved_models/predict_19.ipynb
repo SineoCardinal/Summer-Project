{
 "cells": [
  {
   "cell_type": "code",
   "execution_count": 1,
   "metadata": {},
   "outputs": [
    {
     "name": "stdout",
     "output_type": "stream",
     "text": [
      "使用的特征: ['sqft', 'number_of_stories', 'weekday_opening_time', 'weekday_operating_hours', 'window_to_wall_ratio_category']\n",
      "预测过程中出现错误: Unable to open file (file signature not found)\n"
     ]
    }
   ],
   "source": [
    "import os\n",
    "import numpy as np\n",
    "import pandas as pd\n",
    "from tensorflow.keras.models import load_model\n",
    "import pickle\n",
    "\n",
    "def load_preprocessors(model_dir):\n",
    "    \"\"\"加载预处理器\"\"\"\n",
    "    with open(os.path.join(model_dir, 'preprocessors.pkl'), 'rb') as f:\n",
    "        preprocessors = pickle.load(f)\n",
    "    # 只返回 scaler，因为我们不需要 selector\n",
    "    return preprocessors['scaler']\n",
    "\n",
    "def predict_load_shedding(input_file='input_template_19.xlsx', \n",
    "                         model_dir='upgrade_19',\n",
    "                         output_file='predictions_19.csv',\n",
    "                         n_features=5):  # 添加参数控制特征数量\n",
    "    \"\"\"\n",
    "    预测负荷削减潜力\n",
    "    \"\"\"\n",
    "    # 加载数据\n",
    "    try:\n",
    "        df = pd.read_excel(input_file)\n",
    "        # 只选择前n_features列\n",
    "        df = df.iloc[:, :n_features]\n",
    "        print(f\"使用的特征: {list(df.columns)}\")\n",
    "    except Exception as e:\n",
    "        raise Exception(f\"读取Excel文件失败: {str(e)}\")\n",
    "    \n",
    "    # 加载模型和预处理器\n",
    "    model = load_model(os.path.join(model_dir, 'nn_model.keras'))\n",
    "    scaler = load_preprocessors(model_dir)\n",
    "    \n",
    "    # 预处理数据\n",
    "    X = df.values\n",
    "    # 只对选择的特征进行缩放\n",
    "    scaler_mean = scaler.mean_[:n_features]\n",
    "    scaler_scale = scaler.scale_[:n_features]\n",
    "    scaler.mean_ = scaler_mean\n",
    "    scaler.scale_ = scaler_scale\n",
    "    X_scaled = scaler.transform(X)\n",
    "    \n",
    "    # 预测\n",
    "    predictions = model.predict(X_scaled)\n",
    "    \n",
    "    # 创建结果DataFrame\n",
    "    results = pd.DataFrame({\n",
    "        'building_id': df.index + 1,  # 从1开始编号\n",
    "        'predicted_load_shedding_kw': predictions.flatten()\n",
    "    })\n",
    "    \n",
    "    # 保存结果\n",
    "    results.to_csv(output_file, index=False)\n",
    "    print(f\"预测结果已保存到: {output_file}\")\n",
    "    \n",
    "    return results\n",
    "\n",
    "if __name__ == \"__main__\":\n",
    "    try:\n",
    "        predict_load_shedding()\n",
    "    except Exception as e:\n",
    "        print(f\"预测过程中出现错误: {str(e)}\")"
   ]
  }
 ],
 "metadata": {
  "kernelspec": {
   "display_name": "homework",
   "language": "python",
   "name": "python3"
  },
  "language_info": {
   "codemirror_mode": {
    "name": "ipython",
    "version": 3
   },
   "file_extension": ".py",
   "mimetype": "text/x-python",
   "name": "python",
   "nbconvert_exporter": "python",
   "pygments_lexer": "ipython3",
   "version": "3.9.18"
  }
 },
 "nbformat": 4,
 "nbformat_minor": 2
}
