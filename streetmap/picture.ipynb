{
 "cells": [
  {
   "cell_type": "code",
   "execution_count": 1,
   "metadata": {},
   "outputs": [],
   "source": [
    "import requests\n",
    "import json"
   ]
  },
  {
   "cell_type": "code",
   "execution_count": 2,
   "metadata": {},
   "outputs": [],
   "source": [
    "def get_streetview_image(latitude, longitude, api_key):\n",
    "    url = f\"https://api.map.baidu.com/panorama/v2?ak={api_key}&amp;location={latitude},{longitude}&amp;width={400}&amp;height={300}&amp;fov={120}\"\n",
    "    response = requests.get(url)\n",
    "    data = json.loads(response.text)\n",
    "    return data"
   ]
  },
  {
   "cell_type": "code",
   "execution_count": 3,
   "metadata": {},
   "outputs": [
    {
     "ename": "KeyError",
     "evalue": "'panorama'",
     "output_type": "error",
     "traceback": [
      "\u001b[1;31m---------------------------------------------------------------------------\u001b[0m",
      "\u001b[1;31mKeyError\u001b[0m                                  Traceback (most recent call last)",
      "Cell \u001b[1;32mIn[3], line 6\u001b[0m\n\u001b[0;32m      4\u001b[0m api_key \u001b[38;5;241m=\u001b[39m \u001b[38;5;124m\"\u001b[39m\u001b[38;5;124mSoZrYEwetEADTCpt4tPKqTomx4aNGupN\u001b[39m\u001b[38;5;124m\"\u001b[39m\n\u001b[0;32m      5\u001b[0m data \u001b[38;5;241m=\u001b[39m get_streetview_image(latitude, longitude, api_key)\n\u001b[1;32m----> 6\u001b[0m panorama_url \u001b[38;5;241m=\u001b[39m \u001b[43mdata\u001b[49m\u001b[43m[\u001b[49m\u001b[38;5;124;43m\"\u001b[39;49m\u001b[38;5;124;43mpanorama\u001b[39;49m\u001b[38;5;124;43m\"\u001b[39;49m\u001b[43m]\u001b[49m[\u001b[38;5;241m0\u001b[39m][\u001b[38;5;124m\"\u001b[39m\u001b[38;5;124mlink\u001b[39m\u001b[38;5;124m\"\u001b[39m]\n\u001b[0;32m      7\u001b[0m image_data \u001b[38;5;241m=\u001b[39m requests\u001b[38;5;241m.\u001b[39mget(panorama_url)\u001b[38;5;241m.\u001b[39mcontent\n\u001b[0;32m      8\u001b[0m \u001b[38;5;28;01mwith\u001b[39;00m \u001b[38;5;28mopen\u001b[39m(\u001b[38;5;124m\"\u001b[39m\u001b[38;5;124mstreetview.jpg\u001b[39m\u001b[38;5;124m\"\u001b[39m, \u001b[38;5;124m\"\u001b[39m\u001b[38;5;124mwb\u001b[39m\u001b[38;5;124m\"\u001b[39m) \u001b[38;5;28;01mas\u001b[39;00m f:\n",
      "\u001b[1;31mKeyError\u001b[0m: 'panorama'"
     ]
    }
   ],
   "source": [
    "if __name__ == \"__main__\":\n",
    "    latitude = 39.9087\n",
    "    longitude = 116.3975\n",
    "    api_key = \"SoZrYEwetEADTCpt4tPKqTomx4aNGupN\"\n",
    "    data = get_streetview_image(latitude, longitude, api_key)\n",
    "    panorama_url = data[\"panorama\"][0][\"link\"]\n",
    "    image_data = requests.get(panorama_url).content\n",
    "    with open(\"streetview.jpg\", \"wb\") as f:\n",
    "        f.write(image_data)"
   ]
  }
 ],
 "metadata": {
  "kernelspec": {
   "display_name": "yolov11",
   "language": "python",
   "name": "python3"
  },
  "language_info": {
   "codemirror_mode": {
    "name": "ipython",
    "version": 3
   },
   "file_extension": ".py",
   "mimetype": "text/x-python",
   "name": "python",
   "nbconvert_exporter": "python",
   "pygments_lexer": "ipython3",
   "version": "3.11.4"
  }
 },
 "nbformat": 4,
 "nbformat_minor": 2
}
